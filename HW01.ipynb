{
 "cells": [
  {
   "cell_type": "markdown",
   "metadata": {},
   "source": [
    "# 複習物件導向"
   ]
  },
  {
   "cell_type": "markdown",
   "metadata": {},
   "source": [
    "# Q1.練習定義出一個物件"
   ]
  },
  {
   "cell_type": "code",
   "execution_count": 1,
   "metadata": {
    "collapsed": true
   },
   "outputs": [],
   "source": [
    "# 定義類別\n",
    "class Human:\n",
    "    pass"
   ]
  },
  {
   "cell_type": "code",
   "execution_count": 2,
   "metadata": {
    "collapsed": true
   },
   "outputs": [],
   "source": [
    "# 生成物件\n",
    "human1 = Human()"
   ]
  },
  {
   "cell_type": "code",
   "execution_count": 3,
   "metadata": {
    "collapsed": true
   },
   "outputs": [],
   "source": [
    "# 定義物件屬性\n",
    "human1.name = \"Dimple\""
   ]
  },
  {
   "cell_type": "code",
   "execution_count": 4,
   "metadata": {},
   "outputs": [
    {
     "data": {
      "text/plain": [
       "1"
      ]
     },
     "execution_count": 4,
     "metadata": {},
     "output_type": "execute_result"
    }
   ],
   "source": [
    "# __new__(): 要生成物件時被呼叫，初學者通常不會實作這個方法。\n",
    "# __init__(): 要初始化物件時被呼叫\n",
    "# __del()__: 要刪除物件時被呼叫\n",
    "\n",
    "class Human:\n",
    "    # 類別屬性\n",
    "    count = 0\n",
    "    \n",
    "    def __init__(self):\n",
    "        Human.count += 1\n",
    "    \n",
    "    def __del__(self):\n",
    "        Human.count -= 1\n",
    "\n",
    "human1 = Human()\n",
    "Human.count"
   ]
  },
  {
   "cell_type": "code",
   "execution_count": 5,
   "metadata": {},
   "outputs": [
    {
     "data": {
      "text/plain": [
       "2"
      ]
     },
     "execution_count": 5,
     "metadata": {},
     "output_type": "execute_result"
    }
   ],
   "source": [
    "human2 = Human()\n",
    "Human.count"
   ]
  },
  {
   "cell_type": "code",
   "execution_count": 7,
   "metadata": {},
   "outputs": [
    {
     "name": "stdout",
     "output_type": "stream",
     "text": [
      "John sleep!\n",
      "John attacks with bare hands.\n"
     ]
    }
   ],
   "source": [
    "class Human:\n",
    "    # 類別屬性\n",
    "    count = 0\n",
    "    \n",
    "    def __init__(self,name):\n",
    "        self.name = name\n",
    "        Human.count += 1\n",
    "    \n",
    "    def __del__(self):\n",
    "        Human.count -= 1\n",
    "        \n",
    "    def sleep(self):\n",
    "        print(self.name, \"sleep!\")\n",
    "        \n",
    "    def attack(self):\n",
    "        print(self.name,\"attacks with bare hands.\")\n",
    "        \n",
    "human1 = Human(\"John\")\n",
    "human1.sleep()\n",
    "human1.attack()"
   ]
  },
  {
   "cell_type": "markdown",
   "metadata": {},
   "source": [
    "# Q2.練習使用繼承"
   ]
  },
  {
   "cell_type": "code",
   "execution_count": 8,
   "metadata": {},
   "outputs": [
    {
     "name": "stdout",
     "output_type": "stream",
     "text": [
      "Dimple sleep!\n",
      "Dimple attacks with bare hands.\n"
     ]
    }
   ],
   "source": [
    "# 繼承\n",
    "class Rogue(Human):\n",
    "    pass\n",
    "\n",
    "# 富類別的方法被繼承下來了\n",
    "rogue1 = Rogue('Dimple')\n",
    "rogue1.sleep()\n",
    "rogue1.attack()"
   ]
  },
  {
   "cell_type": "markdown",
   "metadata": {},
   "source": [
    "# Q3.練習使用多形"
   ]
  },
  {
   "cell_type": "code",
   "execution_count": 10,
   "metadata": {},
   "outputs": [
    {
     "name": "stdout",
     "output_type": "stream",
     "text": [
      "Dimple attacks with a shadow blade.\n",
      "Sam attacks with a fire ball\n"
     ]
    }
   ],
   "source": [
    "# 多形\n",
    "class Rogue(Human):\n",
    "    def attack(self):\n",
    "        print(self.name, \"attacks with a shadow blade.\")\n",
    "        \n",
    "class Wizard(Human):\n",
    "    def attack(self):\n",
    "        print(self.name, \"attacks with a fire ball\")\n",
    "        \n",
    "human1 = Rogue(\"Dimple\")\n",
    "human2 = Wizard(\"Sam\")\n",
    "\n",
    "Team1 = [human1, human2]\n",
    "\n",
    "for man in Team1:\n",
    "    man.attack()"
   ]
  },
  {
   "cell_type": "code",
   "execution_count": 16,
   "metadata": {
    "collapsed": true
   },
   "outputs": [],
   "source": [
    "class Human:\n",
    "    # 類別屬性\n",
    "    count = 0\n",
    "    \n",
    "    def __init__(self, name):\n",
    "        self.name = name\n",
    "        Human.count += 1\n",
    "    \n",
    "    def __del__(self):\n",
    "        Human.count -= 1\n",
    "        \n",
    "    def sleep(self):\n",
    "        print(self.name, \"sleeps!\")\n",
    "        \n",
    "    def attack(self):\n",
    "        print(self.name, \"attacks with bare hands.\")\n",
    "        \n",
    "    @staticmethod\n",
    "    def fight(man1, man2):\n",
    "        print(man1.name, \"fights\", man2.name, \".\")\n",
    "        \n",
    "    @classmethod\n",
    "    def default(clz):\n",
    "        return clz('John Doe')"
   ]
  },
  {
   "cell_type": "code",
   "execution_count": 17,
   "metadata": {},
   "outputs": [
    {
     "data": {
      "text/plain": [
       "'John Doe'"
      ]
     },
     "execution_count": 17,
     "metadata": {},
     "output_type": "execute_result"
    }
   ],
   "source": [
    "human3 = Human.default()\n",
    "human3.name"
   ]
  },
  {
   "cell_type": "code",
   "execution_count": 18,
   "metadata": {},
   "outputs": [
    {
     "name": "stdout",
     "output_type": "stream",
     "text": [
      "Dimple fights Sam .\n"
     ]
    }
   ],
   "source": [
    "Human.fight(human1, human2)"
   ]
  }
 ],
 "metadata": {
  "kernelspec": {
   "display_name": "Python 3",
   "language": "python",
   "name": "python3"
  },
  "language_info": {
   "codemirror_mode": {
    "name": "ipython",
    "version": 3
   },
   "file_extension": ".py",
   "mimetype": "text/x-python",
   "name": "python",
   "nbconvert_exporter": "python",
   "pygments_lexer": "ipython3",
   "version": "3.6.4"
  }
 },
 "nbformat": 4,
 "nbformat_minor": 2
}
